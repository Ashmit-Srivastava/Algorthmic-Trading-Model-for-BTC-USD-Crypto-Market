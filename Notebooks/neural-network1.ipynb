{
 "cells": [
  {
   "cell_type": "code",
   "execution_count": 6,
   "id": "211bce61",
   "metadata": {},
   "outputs": [],
   "source": [
    "import pandas as pd\n",
    "import numpy as np\n",
    "import matplotlib.pyplot as plt"
   ]
  },
  {
   "cell_type": "markdown",
   "id": "682a4329",
   "metadata": {},
   "source": [
    "# Read the Dataset"
   ]
  },
  {
   "cell_type": "code",
   "execution_count": 2,
   "id": "26f91cbd",
   "metadata": {},
   "outputs": [],
   "source": [
    "df = pd.read_csv(\"../DATASETS/btc_15m.csv\")"
   ]
  },
  {
   "cell_type": "code",
   "execution_count": 3,
   "id": "fe3dde4b",
   "metadata": {
    "scrolled": true
   },
   "outputs": [
    {
     "data": {
      "text/html": [
       "<div>\n",
       "<style scoped>\n",
       "    .dataframe tbody tr th:only-of-type {\n",
       "        vertical-align: middle;\n",
       "    }\n",
       "\n",
       "    .dataframe tbody tr th {\n",
       "        vertical-align: top;\n",
       "    }\n",
       "\n",
       "    .dataframe thead th {\n",
       "        text-align: right;\n",
       "    }\n",
       "</style>\n",
       "<table border=\"1\" class=\"dataframe\">\n",
       "  <thead>\n",
       "    <tr style=\"text-align: right;\">\n",
       "      <th></th>\n",
       "      <th>datetime</th>\n",
       "      <th>open</th>\n",
       "      <th>high</th>\n",
       "      <th>low</th>\n",
       "      <th>close</th>\n",
       "      <th>volume</th>\n",
       "    </tr>\n",
       "  </thead>\n",
       "  <tbody>\n",
       "    <tr>\n",
       "      <th>0</th>\n",
       "      <td>2018-01-01 05:30:00</td>\n",
       "      <td>13715.65</td>\n",
       "      <td>13715.65</td>\n",
       "      <td>13400.01</td>\n",
       "      <td>13556.15</td>\n",
       "      <td>123.616013</td>\n",
       "    </tr>\n",
       "    <tr>\n",
       "      <th>1</th>\n",
       "      <td>2018-01-01 05:45:00</td>\n",
       "      <td>13533.75</td>\n",
       "      <td>13550.87</td>\n",
       "      <td>13402.00</td>\n",
       "      <td>13521.12</td>\n",
       "      <td>98.136430</td>\n",
       "    </tr>\n",
       "    <tr>\n",
       "      <th>2</th>\n",
       "      <td>2018-01-01 06:00:00</td>\n",
       "      <td>13500.00</td>\n",
       "      <td>13545.37</td>\n",
       "      <td>13450.00</td>\n",
       "      <td>13470.41</td>\n",
       "      <td>79.904037</td>\n",
       "    </tr>\n",
       "    <tr>\n",
       "      <th>3</th>\n",
       "      <td>2018-01-01 06:15:00</td>\n",
       "      <td>13494.65</td>\n",
       "      <td>13690.87</td>\n",
       "      <td>13450.00</td>\n",
       "      <td>13529.01</td>\n",
       "      <td>141.699719</td>\n",
       "    </tr>\n",
       "    <tr>\n",
       "      <th>4</th>\n",
       "      <td>2018-01-01 06:30:00</td>\n",
       "      <td>13528.99</td>\n",
       "      <td>13571.74</td>\n",
       "      <td>13402.28</td>\n",
       "      <td>13445.63</td>\n",
       "      <td>72.537533</td>\n",
       "    </tr>\n",
       "  </tbody>\n",
       "</table>\n",
       "</div>"
      ],
      "text/plain": [
       "              datetime      open      high       low     close      volume\n",
       "0  2018-01-01 05:30:00  13715.65  13715.65  13400.01  13556.15  123.616013\n",
       "1  2018-01-01 05:45:00  13533.75  13550.87  13402.00  13521.12   98.136430\n",
       "2  2018-01-01 06:00:00  13500.00  13545.37  13450.00  13470.41   79.904037\n",
       "3  2018-01-01 06:15:00  13494.65  13690.87  13450.00  13529.01  141.699719\n",
       "4  2018-01-01 06:30:00  13528.99  13571.74  13402.28  13445.63   72.537533"
      ]
     },
     "execution_count": 3,
     "metadata": {},
     "output_type": "execute_result"
    }
   ],
   "source": [
    "df.head()"
   ]
  },
  {
   "cell_type": "markdown",
   "id": "730ebf99",
   "metadata": {},
   "source": []
  }
 ],
 "metadata": {
  "kernelspec": {
   "display_name": "Python 3 (ipykernel)",
   "language": "python",
   "name": "python3"
  },
  "language_info": {
   "codemirror_mode": {
    "name": "ipython",
    "version": 3
   },
   "file_extension": ".py",
   "mimetype": "text/x-python",
   "name": "python",
   "nbconvert_exporter": "python",
   "pygments_lexer": "ipython3",
   "version": "3.10.11"
  }
 },
 "nbformat": 4,
 "nbformat_minor": 5
}
