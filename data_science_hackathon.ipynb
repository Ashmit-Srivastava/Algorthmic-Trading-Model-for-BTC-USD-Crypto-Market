{
  "cells": [
    {
      "cell_type": "code",
      "execution_count": 1,
      "metadata": {
        "colab": {
          "base_uri": "https://localhost:8080/"
        },
        "id": "rV0nRk7ssHdi",
        "outputId": "21e41692-50aa-423c-f6e6-0f55b7cd281b"
      },
      "outputs": [
        {
          "output_type": "stream",
          "name": "stdout",
          "text": [
            "Mounted at /content/drive\n"
          ]
        }
      ],
      "source": [
        "from google.colab import drive\n",
        "drive.mount('/content/drive')"
      ]
    },
    {
      "cell_type": "markdown",
      "source": [
        "##Import all Modules\n"
      ],
      "metadata": {
        "id": "dZHXWevuYFAT"
      }
    },
    {
      "cell_type": "code",
      "execution_count": 2,
      "metadata": {
        "id": "afFSpKERsIiA"
      },
      "outputs": [],
      "source": [
        "import pandas as pd\n",
        "import numpy as np\n",
        "import matplotlib.pyplot as plt\n",
        "from sklearn.model_selection import train_test_split\n",
        "from sklearn.preprocessing import MinMaxScaler\n",
        "from keras.models import Sequential\n",
        "from keras.layers import Dense, LSTM, Dropout"
      ]
    },
    {
      "cell_type": "markdown",
      "source": [
        "##Read the Dataset\n"
      ],
      "metadata": {
        "id": "kaYd078bYKLF"
      }
    },
    {
      "cell_type": "code",
      "execution_count": 3,
      "metadata": {
        "id": "gQWIjb8SsPjn"
      },
      "outputs": [],
      "source": [
        "df = pd.read_csv(\"/content/drive/MyDrive/KDSH Data/btc_15m.csv\") # Change the path for the csv file accordingly"
      ]
    },
    {
      "cell_type": "code",
      "execution_count": 4,
      "metadata": {
        "colab": {
          "base_uri": "https://localhost:8080/",
          "height": 206
        },
        "id": "-9ta_mULu_2A",
        "outputId": "e92bc6be-b3ea-4ece-eae3-cfc78d2a76bf"
      },
      "outputs": [
        {
          "output_type": "execute_result",
          "data": {
            "text/plain": [
              "              datetime      open      high       low     close      volume\n",
              "0  2018-01-01 05:30:00  13715.65  13715.65  13400.01  13556.15  123.616013\n",
              "1  2018-01-01 05:45:00  13533.75  13550.87  13402.00  13521.12   98.136430\n",
              "2  2018-01-01 06:00:00  13500.00  13545.37  13450.00  13470.41   79.904037\n",
              "3  2018-01-01 06:15:00  13494.65  13690.87  13450.00  13529.01  141.699719\n",
              "4  2018-01-01 06:30:00  13528.99  13571.74  13402.28  13445.63   72.537533"
            ],
            "text/html": [
              "\n",
              "  <div id=\"df-0b487690-d71a-4e77-b2cf-81293ecdb6f3\" class=\"colab-df-container\">\n",
              "    <div>\n",
              "<style scoped>\n",
              "    .dataframe tbody tr th:only-of-type {\n",
              "        vertical-align: middle;\n",
              "    }\n",
              "\n",
              "    .dataframe tbody tr th {\n",
              "        vertical-align: top;\n",
              "    }\n",
              "\n",
              "    .dataframe thead th {\n",
              "        text-align: right;\n",
              "    }\n",
              "</style>\n",
              "<table border=\"1\" class=\"dataframe\">\n",
              "  <thead>\n",
              "    <tr style=\"text-align: right;\">\n",
              "      <th></th>\n",
              "      <th>datetime</th>\n",
              "      <th>open</th>\n",
              "      <th>high</th>\n",
              "      <th>low</th>\n",
              "      <th>close</th>\n",
              "      <th>volume</th>\n",
              "    </tr>\n",
              "  </thead>\n",
              "  <tbody>\n",
              "    <tr>\n",
              "      <th>0</th>\n",
              "      <td>2018-01-01 05:30:00</td>\n",
              "      <td>13715.65</td>\n",
              "      <td>13715.65</td>\n",
              "      <td>13400.01</td>\n",
              "      <td>13556.15</td>\n",
              "      <td>123.616013</td>\n",
              "    </tr>\n",
              "    <tr>\n",
              "      <th>1</th>\n",
              "      <td>2018-01-01 05:45:00</td>\n",
              "      <td>13533.75</td>\n",
              "      <td>13550.87</td>\n",
              "      <td>13402.00</td>\n",
              "      <td>13521.12</td>\n",
              "      <td>98.136430</td>\n",
              "    </tr>\n",
              "    <tr>\n",
              "      <th>2</th>\n",
              "      <td>2018-01-01 06:00:00</td>\n",
              "      <td>13500.00</td>\n",
              "      <td>13545.37</td>\n",
              "      <td>13450.00</td>\n",
              "      <td>13470.41</td>\n",
              "      <td>79.904037</td>\n",
              "    </tr>\n",
              "    <tr>\n",
              "      <th>3</th>\n",
              "      <td>2018-01-01 06:15:00</td>\n",
              "      <td>13494.65</td>\n",
              "      <td>13690.87</td>\n",
              "      <td>13450.00</td>\n",
              "      <td>13529.01</td>\n",
              "      <td>141.699719</td>\n",
              "    </tr>\n",
              "    <tr>\n",
              "      <th>4</th>\n",
              "      <td>2018-01-01 06:30:00</td>\n",
              "      <td>13528.99</td>\n",
              "      <td>13571.74</td>\n",
              "      <td>13402.28</td>\n",
              "      <td>13445.63</td>\n",
              "      <td>72.537533</td>\n",
              "    </tr>\n",
              "  </tbody>\n",
              "</table>\n",
              "</div>\n",
              "    <div class=\"colab-df-buttons\">\n",
              "\n",
              "  <div class=\"colab-df-container\">\n",
              "    <button class=\"colab-df-convert\" onclick=\"convertToInteractive('df-0b487690-d71a-4e77-b2cf-81293ecdb6f3')\"\n",
              "            title=\"Convert this dataframe to an interactive table.\"\n",
              "            style=\"display:none;\">\n",
              "\n",
              "  <svg xmlns=\"http://www.w3.org/2000/svg\" height=\"24px\" viewBox=\"0 -960 960 960\">\n",
              "    <path d=\"M120-120v-720h720v720H120Zm60-500h600v-160H180v160Zm220 220h160v-160H400v160Zm0 220h160v-160H400v160ZM180-400h160v-160H180v160Zm440 0h160v-160H620v160ZM180-180h160v-160H180v160Zm440 0h160v-160H620v160Z\"/>\n",
              "  </svg>\n",
              "    </button>\n",
              "\n",
              "  <style>\n",
              "    .colab-df-container {\n",
              "      display:flex;\n",
              "      gap: 12px;\n",
              "    }\n",
              "\n",
              "    .colab-df-convert {\n",
              "      background-color: #E8F0FE;\n",
              "      border: none;\n",
              "      border-radius: 50%;\n",
              "      cursor: pointer;\n",
              "      display: none;\n",
              "      fill: #1967D2;\n",
              "      height: 32px;\n",
              "      padding: 0 0 0 0;\n",
              "      width: 32px;\n",
              "    }\n",
              "\n",
              "    .colab-df-convert:hover {\n",
              "      background-color: #E2EBFA;\n",
              "      box-shadow: 0px 1px 2px rgba(60, 64, 67, 0.3), 0px 1px 3px 1px rgba(60, 64, 67, 0.15);\n",
              "      fill: #174EA6;\n",
              "    }\n",
              "\n",
              "    .colab-df-buttons div {\n",
              "      margin-bottom: 4px;\n",
              "    }\n",
              "\n",
              "    [theme=dark] .colab-df-convert {\n",
              "      background-color: #3B4455;\n",
              "      fill: #D2E3FC;\n",
              "    }\n",
              "\n",
              "    [theme=dark] .colab-df-convert:hover {\n",
              "      background-color: #434B5C;\n",
              "      box-shadow: 0px 1px 3px 1px rgba(0, 0, 0, 0.15);\n",
              "      filter: drop-shadow(0px 1px 2px rgba(0, 0, 0, 0.3));\n",
              "      fill: #FFFFFF;\n",
              "    }\n",
              "  </style>\n",
              "\n",
              "    <script>\n",
              "      const buttonEl =\n",
              "        document.querySelector('#df-0b487690-d71a-4e77-b2cf-81293ecdb6f3 button.colab-df-convert');\n",
              "      buttonEl.style.display =\n",
              "        google.colab.kernel.accessAllowed ? 'block' : 'none';\n",
              "\n",
              "      async function convertToInteractive(key) {\n",
              "        const element = document.querySelector('#df-0b487690-d71a-4e77-b2cf-81293ecdb6f3');\n",
              "        const dataTable =\n",
              "          await google.colab.kernel.invokeFunction('convertToInteractive',\n",
              "                                                    [key], {});\n",
              "        if (!dataTable) return;\n",
              "\n",
              "        const docLinkHtml = 'Like what you see? Visit the ' +\n",
              "          '<a target=\"_blank\" href=https://colab.research.google.com/notebooks/data_table.ipynb>data table notebook</a>'\n",
              "          + ' to learn more about interactive tables.';\n",
              "        element.innerHTML = '';\n",
              "        dataTable['output_type'] = 'display_data';\n",
              "        await google.colab.output.renderOutput(dataTable, element);\n",
              "        const docLink = document.createElement('div');\n",
              "        docLink.innerHTML = docLinkHtml;\n",
              "        element.appendChild(docLink);\n",
              "      }\n",
              "    </script>\n",
              "  </div>\n",
              "\n",
              "\n",
              "<div id=\"df-f2190d26-7ef2-47f9-a24c-a856e9568d99\">\n",
              "  <button class=\"colab-df-quickchart\" onclick=\"quickchart('df-f2190d26-7ef2-47f9-a24c-a856e9568d99')\"\n",
              "            title=\"Suggest charts\"\n",
              "            style=\"display:none;\">\n",
              "\n",
              "<svg xmlns=\"http://www.w3.org/2000/svg\" height=\"24px\"viewBox=\"0 0 24 24\"\n",
              "     width=\"24px\">\n",
              "    <g>\n",
              "        <path d=\"M19 3H5c-1.1 0-2 .9-2 2v14c0 1.1.9 2 2 2h14c1.1 0 2-.9 2-2V5c0-1.1-.9-2-2-2zM9 17H7v-7h2v7zm4 0h-2V7h2v10zm4 0h-2v-4h2v4z\"/>\n",
              "    </g>\n",
              "</svg>\n",
              "  </button>\n",
              "\n",
              "<style>\n",
              "  .colab-df-quickchart {\n",
              "      --bg-color: #E8F0FE;\n",
              "      --fill-color: #1967D2;\n",
              "      --hover-bg-color: #E2EBFA;\n",
              "      --hover-fill-color: #174EA6;\n",
              "      --disabled-fill-color: #AAA;\n",
              "      --disabled-bg-color: #DDD;\n",
              "  }\n",
              "\n",
              "  [theme=dark] .colab-df-quickchart {\n",
              "      --bg-color: #3B4455;\n",
              "      --fill-color: #D2E3FC;\n",
              "      --hover-bg-color: #434B5C;\n",
              "      --hover-fill-color: #FFFFFF;\n",
              "      --disabled-bg-color: #3B4455;\n",
              "      --disabled-fill-color: #666;\n",
              "  }\n",
              "\n",
              "  .colab-df-quickchart {\n",
              "    background-color: var(--bg-color);\n",
              "    border: none;\n",
              "    border-radius: 50%;\n",
              "    cursor: pointer;\n",
              "    display: none;\n",
              "    fill: var(--fill-color);\n",
              "    height: 32px;\n",
              "    padding: 0;\n",
              "    width: 32px;\n",
              "  }\n",
              "\n",
              "  .colab-df-quickchart:hover {\n",
              "    background-color: var(--hover-bg-color);\n",
              "    box-shadow: 0 1px 2px rgba(60, 64, 67, 0.3), 0 1px 3px 1px rgba(60, 64, 67, 0.15);\n",
              "    fill: var(--button-hover-fill-color);\n",
              "  }\n",
              "\n",
              "  .colab-df-quickchart-complete:disabled,\n",
              "  .colab-df-quickchart-complete:disabled:hover {\n",
              "    background-color: var(--disabled-bg-color);\n",
              "    fill: var(--disabled-fill-color);\n",
              "    box-shadow: none;\n",
              "  }\n",
              "\n",
              "  .colab-df-spinner {\n",
              "    border: 2px solid var(--fill-color);\n",
              "    border-color: transparent;\n",
              "    border-bottom-color: var(--fill-color);\n",
              "    animation:\n",
              "      spin 1s steps(1) infinite;\n",
              "  }\n",
              "\n",
              "  @keyframes spin {\n",
              "    0% {\n",
              "      border-color: transparent;\n",
              "      border-bottom-color: var(--fill-color);\n",
              "      border-left-color: var(--fill-color);\n",
              "    }\n",
              "    20% {\n",
              "      border-color: transparent;\n",
              "      border-left-color: var(--fill-color);\n",
              "      border-top-color: var(--fill-color);\n",
              "    }\n",
              "    30% {\n",
              "      border-color: transparent;\n",
              "      border-left-color: var(--fill-color);\n",
              "      border-top-color: var(--fill-color);\n",
              "      border-right-color: var(--fill-color);\n",
              "    }\n",
              "    40% {\n",
              "      border-color: transparent;\n",
              "      border-right-color: var(--fill-color);\n",
              "      border-top-color: var(--fill-color);\n",
              "    }\n",
              "    60% {\n",
              "      border-color: transparent;\n",
              "      border-right-color: var(--fill-color);\n",
              "    }\n",
              "    80% {\n",
              "      border-color: transparent;\n",
              "      border-right-color: var(--fill-color);\n",
              "      border-bottom-color: var(--fill-color);\n",
              "    }\n",
              "    90% {\n",
              "      border-color: transparent;\n",
              "      border-bottom-color: var(--fill-color);\n",
              "    }\n",
              "  }\n",
              "</style>\n",
              "\n",
              "  <script>\n",
              "    async function quickchart(key) {\n",
              "      const quickchartButtonEl =\n",
              "        document.querySelector('#' + key + ' button');\n",
              "      quickchartButtonEl.disabled = true;  // To prevent multiple clicks.\n",
              "      quickchartButtonEl.classList.add('colab-df-spinner');\n",
              "      try {\n",
              "        const charts = await google.colab.kernel.invokeFunction(\n",
              "            'suggestCharts', [key], {});\n",
              "      } catch (error) {\n",
              "        console.error('Error during call to suggestCharts:', error);\n",
              "      }\n",
              "      quickchartButtonEl.classList.remove('colab-df-spinner');\n",
              "      quickchartButtonEl.classList.add('colab-df-quickchart-complete');\n",
              "    }\n",
              "    (() => {\n",
              "      let quickchartButtonEl =\n",
              "        document.querySelector('#df-f2190d26-7ef2-47f9-a24c-a856e9568d99 button');\n",
              "      quickchartButtonEl.style.display =\n",
              "        google.colab.kernel.accessAllowed ? 'block' : 'none';\n",
              "    })();\n",
              "  </script>\n",
              "</div>\n",
              "    </div>\n",
              "  </div>\n"
            ]
          },
          "metadata": {},
          "execution_count": 4
        }
      ],
      "source": [
        "df.head()\n"
      ]
    },
    {
      "cell_type": "markdown",
      "source": [
        "##Split into Training & Testing Set\n"
      ],
      "metadata": {
        "id": "XfjLp1wuYNxV"
      }
    },
    {
      "cell_type": "code",
      "execution_count": 5,
      "metadata": {
        "id": "kg14AnENvC1H"
      },
      "outputs": [],
      "source": [
        "df = df.dropna()  # Drop rows with missing values\n",
        "df = df.reset_index(drop=True)  # Reset index after dropping rows\n",
        "dataframe_training, dataframe_testing, y_train, y_test = train_test_split(\n",
        "    df, df, test_size=0.2, random_state=42\n",
        ")"
      ]
    },
    {
      "cell_type": "markdown",
      "source": [
        "##Pre-processing of Training Set\n"
      ],
      "metadata": {
        "id": "OUhpmjXwYYue"
      }
    },
    {
      "cell_type": "code",
      "execution_count": 6,
      "metadata": {
        "id": "rx2uDwT8vHrW"
      },
      "outputs": [],
      "source": [
        "training_set = dataframe_training.iloc[:,1:2].values"
      ]
    },
    {
      "cell_type": "code",
      "execution_count": 7,
      "metadata": {
        "id": "2Zk2RWqpvKrw"
      },
      "outputs": [],
      "source": [
        "sc = MinMaxScaler()\n",
        "training_set_scaled = sc.fit_transform(training_set)"
      ]
    },
    {
      "cell_type": "markdown",
      "source": [
        "##Pre-processing of Testing Set\n"
      ],
      "metadata": {
        "id": "9sAnFYFCZG-Y"
      }
    },
    {
      "cell_type": "code",
      "execution_count": 8,
      "metadata": {
        "id": "bFhe5SKXvMzn",
        "colab": {
          "base_uri": "https://localhost:8080/",
          "height": 206
        },
        "outputId": "116237aa-b4c3-4e33-ce65-9d29fcd5c8d1"
      },
      "outputs": [
        {
          "output_type": "execute_result",
          "data": {
            "text/plain": [
              "                  datetime     open     high      low    close      volume\n",
              "35964  2019-01-13 14:00:00  3586.39  3587.67  3577.63  3578.11   92.581132\n",
              "57054  2019-08-22 07:30:00  9819.03  9865.82  9762.00  9819.46  927.547381\n",
              "36792  2019-01-22 05:00:00  3532.77  3534.34  3525.47  3527.09  207.134286\n",
              "30520  2018-11-17 21:00:00  5604.69  5612.00  5601.04  5603.57  255.843308\n",
              "85570  2020-06-15 00:00:00  9381.21  9386.56  9376.17  9380.68  198.392004"
            ],
            "text/html": [
              "\n",
              "  <div id=\"df-21188369-1c9f-4932-9ee3-db73a2f95a12\" class=\"colab-df-container\">\n",
              "    <div>\n",
              "<style scoped>\n",
              "    .dataframe tbody tr th:only-of-type {\n",
              "        vertical-align: middle;\n",
              "    }\n",
              "\n",
              "    .dataframe tbody tr th {\n",
              "        vertical-align: top;\n",
              "    }\n",
              "\n",
              "    .dataframe thead th {\n",
              "        text-align: right;\n",
              "    }\n",
              "</style>\n",
              "<table border=\"1\" class=\"dataframe\">\n",
              "  <thead>\n",
              "    <tr style=\"text-align: right;\">\n",
              "      <th></th>\n",
              "      <th>datetime</th>\n",
              "      <th>open</th>\n",
              "      <th>high</th>\n",
              "      <th>low</th>\n",
              "      <th>close</th>\n",
              "      <th>volume</th>\n",
              "    </tr>\n",
              "  </thead>\n",
              "  <tbody>\n",
              "    <tr>\n",
              "      <th>35964</th>\n",
              "      <td>2019-01-13 14:00:00</td>\n",
              "      <td>3586.39</td>\n",
              "      <td>3587.67</td>\n",
              "      <td>3577.63</td>\n",
              "      <td>3578.11</td>\n",
              "      <td>92.581132</td>\n",
              "    </tr>\n",
              "    <tr>\n",
              "      <th>57054</th>\n",
              "      <td>2019-08-22 07:30:00</td>\n",
              "      <td>9819.03</td>\n",
              "      <td>9865.82</td>\n",
              "      <td>9762.00</td>\n",
              "      <td>9819.46</td>\n",
              "      <td>927.547381</td>\n",
              "    </tr>\n",
              "    <tr>\n",
              "      <th>36792</th>\n",
              "      <td>2019-01-22 05:00:00</td>\n",
              "      <td>3532.77</td>\n",
              "      <td>3534.34</td>\n",
              "      <td>3525.47</td>\n",
              "      <td>3527.09</td>\n",
              "      <td>207.134286</td>\n",
              "    </tr>\n",
              "    <tr>\n",
              "      <th>30520</th>\n",
              "      <td>2018-11-17 21:00:00</td>\n",
              "      <td>5604.69</td>\n",
              "      <td>5612.00</td>\n",
              "      <td>5601.04</td>\n",
              "      <td>5603.57</td>\n",
              "      <td>255.843308</td>\n",
              "    </tr>\n",
              "    <tr>\n",
              "      <th>85570</th>\n",
              "      <td>2020-06-15 00:00:00</td>\n",
              "      <td>9381.21</td>\n",
              "      <td>9386.56</td>\n",
              "      <td>9376.17</td>\n",
              "      <td>9380.68</td>\n",
              "      <td>198.392004</td>\n",
              "    </tr>\n",
              "  </tbody>\n",
              "</table>\n",
              "</div>\n",
              "    <div class=\"colab-df-buttons\">\n",
              "\n",
              "  <div class=\"colab-df-container\">\n",
              "    <button class=\"colab-df-convert\" onclick=\"convertToInteractive('df-21188369-1c9f-4932-9ee3-db73a2f95a12')\"\n",
              "            title=\"Convert this dataframe to an interactive table.\"\n",
              "            style=\"display:none;\">\n",
              "\n",
              "  <svg xmlns=\"http://www.w3.org/2000/svg\" height=\"24px\" viewBox=\"0 -960 960 960\">\n",
              "    <path d=\"M120-120v-720h720v720H120Zm60-500h600v-160H180v160Zm220 220h160v-160H400v160Zm0 220h160v-160H400v160ZM180-400h160v-160H180v160Zm440 0h160v-160H620v160ZM180-180h160v-160H180v160Zm440 0h160v-160H620v160Z\"/>\n",
              "  </svg>\n",
              "    </button>\n",
              "\n",
              "  <style>\n",
              "    .colab-df-container {\n",
              "      display:flex;\n",
              "      gap: 12px;\n",
              "    }\n",
              "\n",
              "    .colab-df-convert {\n",
              "      background-color: #E8F0FE;\n",
              "      border: none;\n",
              "      border-radius: 50%;\n",
              "      cursor: pointer;\n",
              "      display: none;\n",
              "      fill: #1967D2;\n",
              "      height: 32px;\n",
              "      padding: 0 0 0 0;\n",
              "      width: 32px;\n",
              "    }\n",
              "\n",
              "    .colab-df-convert:hover {\n",
              "      background-color: #E2EBFA;\n",
              "      box-shadow: 0px 1px 2px rgba(60, 64, 67, 0.3), 0px 1px 3px 1px rgba(60, 64, 67, 0.15);\n",
              "      fill: #174EA6;\n",
              "    }\n",
              "\n",
              "    .colab-df-buttons div {\n",
              "      margin-bottom: 4px;\n",
              "    }\n",
              "\n",
              "    [theme=dark] .colab-df-convert {\n",
              "      background-color: #3B4455;\n",
              "      fill: #D2E3FC;\n",
              "    }\n",
              "\n",
              "    [theme=dark] .colab-df-convert:hover {\n",
              "      background-color: #434B5C;\n",
              "      box-shadow: 0px 1px 3px 1px rgba(0, 0, 0, 0.15);\n",
              "      filter: drop-shadow(0px 1px 2px rgba(0, 0, 0, 0.3));\n",
              "      fill: #FFFFFF;\n",
              "    }\n",
              "  </style>\n",
              "\n",
              "    <script>\n",
              "      const buttonEl =\n",
              "        document.querySelector('#df-21188369-1c9f-4932-9ee3-db73a2f95a12 button.colab-df-convert');\n",
              "      buttonEl.style.display =\n",
              "        google.colab.kernel.accessAllowed ? 'block' : 'none';\n",
              "\n",
              "      async function convertToInteractive(key) {\n",
              "        const element = document.querySelector('#df-21188369-1c9f-4932-9ee3-db73a2f95a12');\n",
              "        const dataTable =\n",
              "          await google.colab.kernel.invokeFunction('convertToInteractive',\n",
              "                                                    [key], {});\n",
              "        if (!dataTable) return;\n",
              "\n",
              "        const docLinkHtml = 'Like what you see? Visit the ' +\n",
              "          '<a target=\"_blank\" href=https://colab.research.google.com/notebooks/data_table.ipynb>data table notebook</a>'\n",
              "          + ' to learn more about interactive tables.';\n",
              "        element.innerHTML = '';\n",
              "        dataTable['output_type'] = 'display_data';\n",
              "        await google.colab.output.renderOutput(dataTable, element);\n",
              "        const docLink = document.createElement('div');\n",
              "        docLink.innerHTML = docLinkHtml;\n",
              "        element.appendChild(docLink);\n",
              "      }\n",
              "    </script>\n",
              "  </div>\n",
              "\n",
              "\n",
              "<div id=\"df-cef692e4-5eff-4c1d-aafc-be5a6e83e5e9\">\n",
              "  <button class=\"colab-df-quickchart\" onclick=\"quickchart('df-cef692e4-5eff-4c1d-aafc-be5a6e83e5e9')\"\n",
              "            title=\"Suggest charts\"\n",
              "            style=\"display:none;\">\n",
              "\n",
              "<svg xmlns=\"http://www.w3.org/2000/svg\" height=\"24px\"viewBox=\"0 0 24 24\"\n",
              "     width=\"24px\">\n",
              "    <g>\n",
              "        <path d=\"M19 3H5c-1.1 0-2 .9-2 2v14c0 1.1.9 2 2 2h14c1.1 0 2-.9 2-2V5c0-1.1-.9-2-2-2zM9 17H7v-7h2v7zm4 0h-2V7h2v10zm4 0h-2v-4h2v4z\"/>\n",
              "    </g>\n",
              "</svg>\n",
              "  </button>\n",
              "\n",
              "<style>\n",
              "  .colab-df-quickchart {\n",
              "      --bg-color: #E8F0FE;\n",
              "      --fill-color: #1967D2;\n",
              "      --hover-bg-color: #E2EBFA;\n",
              "      --hover-fill-color: #174EA6;\n",
              "      --disabled-fill-color: #AAA;\n",
              "      --disabled-bg-color: #DDD;\n",
              "  }\n",
              "\n",
              "  [theme=dark] .colab-df-quickchart {\n",
              "      --bg-color: #3B4455;\n",
              "      --fill-color: #D2E3FC;\n",
              "      --hover-bg-color: #434B5C;\n",
              "      --hover-fill-color: #FFFFFF;\n",
              "      --disabled-bg-color: #3B4455;\n",
              "      --disabled-fill-color: #666;\n",
              "  }\n",
              "\n",
              "  .colab-df-quickchart {\n",
              "    background-color: var(--bg-color);\n",
              "    border: none;\n",
              "    border-radius: 50%;\n",
              "    cursor: pointer;\n",
              "    display: none;\n",
              "    fill: var(--fill-color);\n",
              "    height: 32px;\n",
              "    padding: 0;\n",
              "    width: 32px;\n",
              "  }\n",
              "\n",
              "  .colab-df-quickchart:hover {\n",
              "    background-color: var(--hover-bg-color);\n",
              "    box-shadow: 0 1px 2px rgba(60, 64, 67, 0.3), 0 1px 3px 1px rgba(60, 64, 67, 0.15);\n",
              "    fill: var(--button-hover-fill-color);\n",
              "  }\n",
              "\n",
              "  .colab-df-quickchart-complete:disabled,\n",
              "  .colab-df-quickchart-complete:disabled:hover {\n",
              "    background-color: var(--disabled-bg-color);\n",
              "    fill: var(--disabled-fill-color);\n",
              "    box-shadow: none;\n",
              "  }\n",
              "\n",
              "  .colab-df-spinner {\n",
              "    border: 2px solid var(--fill-color);\n",
              "    border-color: transparent;\n",
              "    border-bottom-color: var(--fill-color);\n",
              "    animation:\n",
              "      spin 1s steps(1) infinite;\n",
              "  }\n",
              "\n",
              "  @keyframes spin {\n",
              "    0% {\n",
              "      border-color: transparent;\n",
              "      border-bottom-color: var(--fill-color);\n",
              "      border-left-color: var(--fill-color);\n",
              "    }\n",
              "    20% {\n",
              "      border-color: transparent;\n",
              "      border-left-color: var(--fill-color);\n",
              "      border-top-color: var(--fill-color);\n",
              "    }\n",
              "    30% {\n",
              "      border-color: transparent;\n",
              "      border-left-color: var(--fill-color);\n",
              "      border-top-color: var(--fill-color);\n",
              "      border-right-color: var(--fill-color);\n",
              "    }\n",
              "    40% {\n",
              "      border-color: transparent;\n",
              "      border-right-color: var(--fill-color);\n",
              "      border-top-color: var(--fill-color);\n",
              "    }\n",
              "    60% {\n",
              "      border-color: transparent;\n",
              "      border-right-color: var(--fill-color);\n",
              "    }\n",
              "    80% {\n",
              "      border-color: transparent;\n",
              "      border-right-color: var(--fill-color);\n",
              "      border-bottom-color: var(--fill-color);\n",
              "    }\n",
              "    90% {\n",
              "      border-color: transparent;\n",
              "      border-bottom-color: var(--fill-color);\n",
              "    }\n",
              "  }\n",
              "</style>\n",
              "\n",
              "  <script>\n",
              "    async function quickchart(key) {\n",
              "      const quickchartButtonEl =\n",
              "        document.querySelector('#' + key + ' button');\n",
              "      quickchartButtonEl.disabled = true;  // To prevent multiple clicks.\n",
              "      quickchartButtonEl.classList.add('colab-df-spinner');\n",
              "      try {\n",
              "        const charts = await google.colab.kernel.invokeFunction(\n",
              "            'suggestCharts', [key], {});\n",
              "      } catch (error) {\n",
              "        console.error('Error during call to suggestCharts:', error);\n",
              "      }\n",
              "      quickchartButtonEl.classList.remove('colab-df-spinner');\n",
              "      quickchartButtonEl.classList.add('colab-df-quickchart-complete');\n",
              "    }\n",
              "    (() => {\n",
              "      let quickchartButtonEl =\n",
              "        document.querySelector('#df-cef692e4-5eff-4c1d-aafc-be5a6e83e5e9 button');\n",
              "      quickchartButtonEl.style.display =\n",
              "        google.colab.kernel.accessAllowed ? 'block' : 'none';\n",
              "    })();\n",
              "  </script>\n",
              "</div>\n",
              "    </div>\n",
              "  </div>\n"
            ]
          },
          "metadata": {},
          "execution_count": 8
        }
      ],
      "source": [
        "testing_set = dataframe_testing.iloc[:,1:2].values\n",
        "dataframe_testing.head()"
      ]
    },
    {
      "cell_type": "code",
      "execution_count": 9,
      "metadata": {
        "colab": {
          "base_uri": "https://localhost:8080/",
          "height": 206
        },
        "id": "2SJtwLx7vPfe",
        "outputId": "12da65ca-8260-4c0d-f79f-b2f36c7c9ae4"
      },
      "outputs": [
        {
          "output_type": "execute_result",
          "data": {
            "text/plain": [
              "                  datetime      open      high       low     close      volume\n",
              "49821  2019-06-07 14:15:00   7958.36   7967.71   7942.91   7954.27  306.504543\n",
              "64722  2019-11-10 04:30:00   8796.05   8808.42   8790.12   8806.51  150.454382\n",
              "74911  2020-02-24 18:45:00   9783.04   9811.10   9780.42   9792.54  483.119116\n",
              "2787   2018-01-30 08:00:00  11040.00  11094.83  11022.01  11032.00  109.619743\n",
              "24374  2018-09-14 10:00:00   6550.37   6570.00   6539.15   6541.98  228.680587"
            ],
            "text/html": [
              "\n",
              "  <div id=\"df-8e976deb-9c5a-483c-b385-34a69b40efae\" class=\"colab-df-container\">\n",
              "    <div>\n",
              "<style scoped>\n",
              "    .dataframe tbody tr th:only-of-type {\n",
              "        vertical-align: middle;\n",
              "    }\n",
              "\n",
              "    .dataframe tbody tr th {\n",
              "        vertical-align: top;\n",
              "    }\n",
              "\n",
              "    .dataframe thead th {\n",
              "        text-align: right;\n",
              "    }\n",
              "</style>\n",
              "<table border=\"1\" class=\"dataframe\">\n",
              "  <thead>\n",
              "    <tr style=\"text-align: right;\">\n",
              "      <th></th>\n",
              "      <th>datetime</th>\n",
              "      <th>open</th>\n",
              "      <th>high</th>\n",
              "      <th>low</th>\n",
              "      <th>close</th>\n",
              "      <th>volume</th>\n",
              "    </tr>\n",
              "  </thead>\n",
              "  <tbody>\n",
              "    <tr>\n",
              "      <th>49821</th>\n",
              "      <td>2019-06-07 14:15:00</td>\n",
              "      <td>7958.36</td>\n",
              "      <td>7967.71</td>\n",
              "      <td>7942.91</td>\n",
              "      <td>7954.27</td>\n",
              "      <td>306.504543</td>\n",
              "    </tr>\n",
              "    <tr>\n",
              "      <th>64722</th>\n",
              "      <td>2019-11-10 04:30:00</td>\n",
              "      <td>8796.05</td>\n",
              "      <td>8808.42</td>\n",
              "      <td>8790.12</td>\n",
              "      <td>8806.51</td>\n",
              "      <td>150.454382</td>\n",
              "    </tr>\n",
              "    <tr>\n",
              "      <th>74911</th>\n",
              "      <td>2020-02-24 18:45:00</td>\n",
              "      <td>9783.04</td>\n",
              "      <td>9811.10</td>\n",
              "      <td>9780.42</td>\n",
              "      <td>9792.54</td>\n",
              "      <td>483.119116</td>\n",
              "    </tr>\n",
              "    <tr>\n",
              "      <th>2787</th>\n",
              "      <td>2018-01-30 08:00:00</td>\n",
              "      <td>11040.00</td>\n",
              "      <td>11094.83</td>\n",
              "      <td>11022.01</td>\n",
              "      <td>11032.00</td>\n",
              "      <td>109.619743</td>\n",
              "    </tr>\n",
              "    <tr>\n",
              "      <th>24374</th>\n",
              "      <td>2018-09-14 10:00:00</td>\n",
              "      <td>6550.37</td>\n",
              "      <td>6570.00</td>\n",
              "      <td>6539.15</td>\n",
              "      <td>6541.98</td>\n",
              "      <td>228.680587</td>\n",
              "    </tr>\n",
              "  </tbody>\n",
              "</table>\n",
              "</div>\n",
              "    <div class=\"colab-df-buttons\">\n",
              "\n",
              "  <div class=\"colab-df-container\">\n",
              "    <button class=\"colab-df-convert\" onclick=\"convertToInteractive('df-8e976deb-9c5a-483c-b385-34a69b40efae')\"\n",
              "            title=\"Convert this dataframe to an interactive table.\"\n",
              "            style=\"display:none;\">\n",
              "\n",
              "  <svg xmlns=\"http://www.w3.org/2000/svg\" height=\"24px\" viewBox=\"0 -960 960 960\">\n",
              "    <path d=\"M120-120v-720h720v720H120Zm60-500h600v-160H180v160Zm220 220h160v-160H400v160Zm0 220h160v-160H400v160ZM180-400h160v-160H180v160Zm440 0h160v-160H620v160ZM180-180h160v-160H180v160Zm440 0h160v-160H620v160Z\"/>\n",
              "  </svg>\n",
              "    </button>\n",
              "\n",
              "  <style>\n",
              "    .colab-df-container {\n",
              "      display:flex;\n",
              "      gap: 12px;\n",
              "    }\n",
              "\n",
              "    .colab-df-convert {\n",
              "      background-color: #E8F0FE;\n",
              "      border: none;\n",
              "      border-radius: 50%;\n",
              "      cursor: pointer;\n",
              "      display: none;\n",
              "      fill: #1967D2;\n",
              "      height: 32px;\n",
              "      padding: 0 0 0 0;\n",
              "      width: 32px;\n",
              "    }\n",
              "\n",
              "    .colab-df-convert:hover {\n",
              "      background-color: #E2EBFA;\n",
              "      box-shadow: 0px 1px 2px rgba(60, 64, 67, 0.3), 0px 1px 3px 1px rgba(60, 64, 67, 0.15);\n",
              "      fill: #174EA6;\n",
              "    }\n",
              "\n",
              "    .colab-df-buttons div {\n",
              "      margin-bottom: 4px;\n",
              "    }\n",
              "\n",
              "    [theme=dark] .colab-df-convert {\n",
              "      background-color: #3B4455;\n",
              "      fill: #D2E3FC;\n",
              "    }\n",
              "\n",
              "    [theme=dark] .colab-df-convert:hover {\n",
              "      background-color: #434B5C;\n",
              "      box-shadow: 0px 1px 3px 1px rgba(0, 0, 0, 0.15);\n",
              "      filter: drop-shadow(0px 1px 2px rgba(0, 0, 0, 0.3));\n",
              "      fill: #FFFFFF;\n",
              "    }\n",
              "  </style>\n",
              "\n",
              "    <script>\n",
              "      const buttonEl =\n",
              "        document.querySelector('#df-8e976deb-9c5a-483c-b385-34a69b40efae button.colab-df-convert');\n",
              "      buttonEl.style.display =\n",
              "        google.colab.kernel.accessAllowed ? 'block' : 'none';\n",
              "\n",
              "      async function convertToInteractive(key) {\n",
              "        const element = document.querySelector('#df-8e976deb-9c5a-483c-b385-34a69b40efae');\n",
              "        const dataTable =\n",
              "          await google.colab.kernel.invokeFunction('convertToInteractive',\n",
              "                                                    [key], {});\n",
              "        if (!dataTable) return;\n",
              "\n",
              "        const docLinkHtml = 'Like what you see? Visit the ' +\n",
              "          '<a target=\"_blank\" href=https://colab.research.google.com/notebooks/data_table.ipynb>data table notebook</a>'\n",
              "          + ' to learn more about interactive tables.';\n",
              "        element.innerHTML = '';\n",
              "        dataTable['output_type'] = 'display_data';\n",
              "        await google.colab.output.renderOutput(dataTable, element);\n",
              "        const docLink = document.createElement('div');\n",
              "        docLink.innerHTML = docLinkHtml;\n",
              "        element.appendChild(docLink);\n",
              "      }\n",
              "    </script>\n",
              "  </div>\n",
              "\n",
              "\n",
              "<div id=\"df-4fc77a77-4dc7-4eda-8d1d-7e43e67620ca\">\n",
              "  <button class=\"colab-df-quickchart\" onclick=\"quickchart('df-4fc77a77-4dc7-4eda-8d1d-7e43e67620ca')\"\n",
              "            title=\"Suggest charts\"\n",
              "            style=\"display:none;\">\n",
              "\n",
              "<svg xmlns=\"http://www.w3.org/2000/svg\" height=\"24px\"viewBox=\"0 0 24 24\"\n",
              "     width=\"24px\">\n",
              "    <g>\n",
              "        <path d=\"M19 3H5c-1.1 0-2 .9-2 2v14c0 1.1.9 2 2 2h14c1.1 0 2-.9 2-2V5c0-1.1-.9-2-2-2zM9 17H7v-7h2v7zm4 0h-2V7h2v10zm4 0h-2v-4h2v4z\"/>\n",
              "    </g>\n",
              "</svg>\n",
              "  </button>\n",
              "\n",
              "<style>\n",
              "  .colab-df-quickchart {\n",
              "      --bg-color: #E8F0FE;\n",
              "      --fill-color: #1967D2;\n",
              "      --hover-bg-color: #E2EBFA;\n",
              "      --hover-fill-color: #174EA6;\n",
              "      --disabled-fill-color: #AAA;\n",
              "      --disabled-bg-color: #DDD;\n",
              "  }\n",
              "\n",
              "  [theme=dark] .colab-df-quickchart {\n",
              "      --bg-color: #3B4455;\n",
              "      --fill-color: #D2E3FC;\n",
              "      --hover-bg-color: #434B5C;\n",
              "      --hover-fill-color: #FFFFFF;\n",
              "      --disabled-bg-color: #3B4455;\n",
              "      --disabled-fill-color: #666;\n",
              "  }\n",
              "\n",
              "  .colab-df-quickchart {\n",
              "    background-color: var(--bg-color);\n",
              "    border: none;\n",
              "    border-radius: 50%;\n",
              "    cursor: pointer;\n",
              "    display: none;\n",
              "    fill: var(--fill-color);\n",
              "    height: 32px;\n",
              "    padding: 0;\n",
              "    width: 32px;\n",
              "  }\n",
              "\n",
              "  .colab-df-quickchart:hover {\n",
              "    background-color: var(--hover-bg-color);\n",
              "    box-shadow: 0 1px 2px rgba(60, 64, 67, 0.3), 0 1px 3px 1px rgba(60, 64, 67, 0.15);\n",
              "    fill: var(--button-hover-fill-color);\n",
              "  }\n",
              "\n",
              "  .colab-df-quickchart-complete:disabled,\n",
              "  .colab-df-quickchart-complete:disabled:hover {\n",
              "    background-color: var(--disabled-bg-color);\n",
              "    fill: var(--disabled-fill-color);\n",
              "    box-shadow: none;\n",
              "  }\n",
              "\n",
              "  .colab-df-spinner {\n",
              "    border: 2px solid var(--fill-color);\n",
              "    border-color: transparent;\n",
              "    border-bottom-color: var(--fill-color);\n",
              "    animation:\n",
              "      spin 1s steps(1) infinite;\n",
              "  }\n",
              "\n",
              "  @keyframes spin {\n",
              "    0% {\n",
              "      border-color: transparent;\n",
              "      border-bottom-color: var(--fill-color);\n",
              "      border-left-color: var(--fill-color);\n",
              "    }\n",
              "    20% {\n",
              "      border-color: transparent;\n",
              "      border-left-color: var(--fill-color);\n",
              "      border-top-color: var(--fill-color);\n",
              "    }\n",
              "    30% {\n",
              "      border-color: transparent;\n",
              "      border-left-color: var(--fill-color);\n",
              "      border-top-color: var(--fill-color);\n",
              "      border-right-color: var(--fill-color);\n",
              "    }\n",
              "    40% {\n",
              "      border-color: transparent;\n",
              "      border-right-color: var(--fill-color);\n",
              "      border-top-color: var(--fill-color);\n",
              "    }\n",
              "    60% {\n",
              "      border-color: transparent;\n",
              "      border-right-color: var(--fill-color);\n",
              "    }\n",
              "    80% {\n",
              "      border-color: transparent;\n",
              "      border-right-color: var(--fill-color);\n",
              "      border-bottom-color: var(--fill-color);\n",
              "    }\n",
              "    90% {\n",
              "      border-color: transparent;\n",
              "      border-bottom-color: var(--fill-color);\n",
              "    }\n",
              "  }\n",
              "</style>\n",
              "\n",
              "  <script>\n",
              "    async function quickchart(key) {\n",
              "      const quickchartButtonEl =\n",
              "        document.querySelector('#' + key + ' button');\n",
              "      quickchartButtonEl.disabled = true;  // To prevent multiple clicks.\n",
              "      quickchartButtonEl.classList.add('colab-df-spinner');\n",
              "      try {\n",
              "        const charts = await google.colab.kernel.invokeFunction(\n",
              "            'suggestCharts', [key], {});\n",
              "      } catch (error) {\n",
              "        console.error('Error during call to suggestCharts:', error);\n",
              "      }\n",
              "      quickchartButtonEl.classList.remove('colab-df-spinner');\n",
              "      quickchartButtonEl.classList.add('colab-df-quickchart-complete');\n",
              "    }\n",
              "    (() => {\n",
              "      let quickchartButtonEl =\n",
              "        document.querySelector('#df-4fc77a77-4dc7-4eda-8d1d-7e43e67620ca button');\n",
              "      quickchartButtonEl.style.display =\n",
              "        google.colab.kernel.accessAllowed ? 'block' : 'none';\n",
              "    })();\n",
              "  </script>\n",
              "</div>\n",
              "    </div>\n",
              "  </div>\n"
            ]
          },
          "metadata": {},
          "execution_count": 9
        }
      ],
      "source": [
        "\n",
        "dataframe_training.head()\n"
      ]
    },
    {
      "cell_type": "markdown",
      "source": [
        "##Number of timesteps\n"
      ],
      "metadata": {
        "id": "bkUjSzojZfvN"
      }
    },
    {
      "cell_type": "code",
      "execution_count": 10,
      "metadata": {
        "id": "B_UwMr2Lv1DW"
      },
      "outputs": [],
      "source": [
        "timesteps = 60"
      ]
    },
    {
      "cell_type": "code",
      "execution_count": 11,
      "metadata": {
        "id": "dD_SNigjv3tW"
      },
      "outputs": [],
      "source": [
        "X_train = []\n",
        "Y_train = []\n",
        "\n",
        "for i in range(timesteps, len(training_set_scaled)):\n",
        "    #APPEND INTO X_TRAIN: ROWS, COLUMN\n",
        "    X_train.append(training_set_scaled[i-timesteps:i, 0]) #MEMORY\n",
        "    Y_train.append(training_set_scaled[i, 0]) #PREDICTIONS"
      ]
    },
    {
      "cell_type": "markdown",
      "source": [
        "##Convert to Numpy Array\n"
      ],
      "metadata": {
        "id": "1HnmOG0ZZjvs"
      }
    },
    {
      "cell_type": "code",
      "execution_count": 12,
      "metadata": {
        "id": "9aoMPbj3v5fm"
      },
      "outputs": [],
      "source": [
        "X_train, Y_train = np.array(X_train), np.array(Y_train)"
      ]
    },
    {
      "cell_type": "markdown",
      "source": [
        "##Reshape to add new dimension\n"
      ],
      "metadata": {
        "id": "tkD5Tpy7Znw8"
      }
    },
    {
      "cell_type": "code",
      "execution_count": 13,
      "metadata": {
        "id": "K5ga3mUIv-BG"
      },
      "outputs": [],
      "source": [
        "X_train = np.reshape(X_train, (X_train.shape[0], X_train.shape[1], 1))"
      ]
    },
    {
      "cell_type": "markdown",
      "source": [
        "##Construct the RNN\n"
      ],
      "metadata": {
        "id": "0ta96P0eZpOe"
      }
    },
    {
      "cell_type": "code",
      "execution_count": 14,
      "metadata": {
        "id": "fiz3Wf5Fv_52"
      },
      "outputs": [],
      "source": [
        "regressor = Sequential()"
      ]
    },
    {
      "cell_type": "code",
      "execution_count": 15,
      "metadata": {
        "id": "IaXgeUBvwBm2"
      },
      "outputs": [],
      "source": [
        "regressor.add(LSTM(\n",
        "    units = 50,\n",
        "    return_sequences=True,\n",
        "    input_shape = (X_train.shape[1], 1)\n",
        "    ))\n",
        "\n",
        "regressor.add(Dropout(\n",
        "    rate = 0.2\n",
        "))\n",
        "\n",
        "regressor.add(LSTM(\n",
        "    units = 50,\n",
        "    return_sequences=True,\n",
        "    ))\n",
        "\n",
        "regressor.add(Dropout(\n",
        "    rate = 0.2\n",
        "  ))\n",
        "\n",
        "regressor.add(LSTM(\n",
        "    units = 50,\n",
        "    return_sequences=True,\n",
        "    ))\n",
        "\n",
        "regressor.add(Dropout(\n",
        "    rate = 0.2\n",
        "  ))\n",
        "\n",
        "\n",
        "regressor.add(LSTM(\n",
        "    units = 50,\n",
        "    return_sequences=False,\n",
        "    ))\n",
        "\n",
        "regressor.add(Dropout(\n",
        "    rate = 0.2\n",
        "  ))\n",
        "\n",
        "\n",
        "#FINAL - OUTPUT LAYER\n",
        "regressor.add(Dense(\n",
        "    units = 1\n",
        "    ))"
      ]
    },
    {
      "cell_type": "markdown",
      "source": [
        "##Compile RNN\n"
      ],
      "metadata": {
        "id": "RxThtcsMZyhl"
      }
    },
    {
      "cell_type": "code",
      "execution_count": 16,
      "metadata": {
        "id": "1hejFHPLwGZO"
      },
      "outputs": [],
      "source": [
        "regressor.compile(\n",
        "    optimizer = \"adam\", #ALWAYS A SAFE CHOICE; RNN, ANN\n",
        "    loss  = \"mean_squared_error\" #MSE FOR REGRESSION\n",
        "    )"
      ]
    },
    {
      "cell_type": "markdown",
      "source": [
        "##Fit RNN\n"
      ],
      "metadata": {
        "id": "JSRA6o8CZ2Fv"
      }
    },
    {
      "cell_type": "code",
      "execution_count": 30,
      "metadata": {
        "colab": {
          "base_uri": "https://localhost:8080/"
        },
        "id": "1qnauppdwQn3",
        "outputId": "88bff512-1c9d-46fb-df96-08df6309648b"
      },
      "outputs": [
        {
          "output_type": "stream",
          "name": "stdout",
          "text": [
            "Epoch 1/3\n",
            "3564/3564 [==============================] - 431s 121ms/step - loss: 0.0745\n",
            "Epoch 2/3\n",
            "3564/3564 [==============================] - 437s 123ms/step - loss: 0.0745\n",
            "Epoch 3/3\n",
            "3564/3564 [==============================] - 434s 122ms/step - loss: 0.0745\n"
          ]
        },
        {
          "output_type": "execute_result",
          "data": {
            "text/plain": [
              "<keras.src.callbacks.History at 0x78afc9c2a3e0>"
            ]
          },
          "metadata": {},
          "execution_count": 30
        }
      ],
      "source": [
        "regressor.fit(\n",
        "    X_train,\n",
        "    Y_train,\n",
        "    epochs = 5,\n",
        "    batch_size =  32\n",
        "    )\n",
        "# The epochs can be changed modified according to our need, for this model we have taken epochs = 5"
      ]
    },
    {
      "cell_type": "markdown",
      "source": [
        "##Making Predictions\n"
      ],
      "metadata": {
        "id": "Nk5PBWs3Z6xD"
      }
    },
    {
      "cell_type": "code",
      "execution_count": 31,
      "metadata": {
        "id": "PjpKHlnowSUt"
      },
      "outputs": [],
      "source": [
        "df_prediction = pd.concat(\n",
        "    (dataframe_training['open'], dataframe_testing['open']),\n",
        "    axis=0  # ROWS; NOT COLUMNS\n",
        ")\n"
      ]
    },
    {
      "cell_type": "code",
      "execution_count": 32,
      "metadata": {
        "id": "zkebdpknwXdu"
      },
      "outputs": [],
      "source": [
        "inputs = df_prediction[len(df_prediction)-len(dataframe_testing)-60:].values"
      ]
    },
    {
      "cell_type": "code",
      "execution_count": 33,
      "metadata": {
        "id": "vPy_V6QOwYJG"
      },
      "outputs": [],
      "source": [
        "inputs = np.reshape(inputs, (-1, 1))\n",
        "inputs = sc.transform(inputs)\n",
        "\n",
        "X_test = []\n",
        "for i in range(60, 80):\n",
        "     #APPEND INTO X_TRAIN: ROWS, COLUMN\n",
        "     X_test.append(inputs[i-60:i, 0]) #MEMORY\n"
      ]
    },
    {
      "cell_type": "markdown",
      "source": [
        "## BACKTESTING"
      ],
      "metadata": {
        "id": "gpToC6e340Lh"
      }
    },
    {
      "cell_type": "code",
      "source": [
        "X_test = np.array(X_test)\n",
        "X_test = np.reshape(X_test, (X_test.shape[0], X_test.shape[1], 1))\n",
        "\n",
        "predicted_prices = regressor.predict(X_test)\n",
        "\n",
        "# Inverse transform the predicted prices to get them in the original scale\n",
        "predicted_prices = sc.inverse_transform(predicted_prices)\n",
        "\n",
        "actual_prices = testing_set[timesteps:]\n",
        "returns = (actual_prices[1:] - actual_prices[:-1]) / actual_prices[:-1]\n",
        "\n",
        "# Calculate trading signals based on predicted price changes\n",
        "predicted_returns = (predicted_prices[1:] - predicted_prices[:-1]) / predicted_prices[:-1]\n",
        "buy_signals = predicted_returns > 0  # Buy when the model predicts a positive return\n",
        "\n",
        "# Assuming a constant transaction cost and slippage for simplicity\n",
        "transaction_cost = 0.0015\n",
        "slippage = 0.002\n",
        "\n",
        "# Ensure buy_signals has the same length as returns\n",
        "buy_signals = buy_signals[:len(returns)]\n",
        "\n",
        "buy_signals_expanded = np.expand_dims(buy_signals, axis=-1)\n",
        "\n",
        "adjusted_returns = returns - (buy_signals_expanded * transaction_cost) - (buy_signals_expanded * slippage)\n",
        "\n",
        "# Reshape predicted_prices to match the shape of actual_prices\n",
        "predicted_prices = predicted_prices[:len(actual_prices)].flatten()\n",
        "\n",
        "# Calculate errors\n",
        "errors = actual_prices - predicted_prices\n",
        "\n",
        "# Calculate cumulative returns\n",
        "cumulative_returns = np.cumprod(1 + adjusted_returns) - 1\n",
        "\n",
        "# Trim the longer array to match the length of the shorter array\n",
        "min_length = min(len(cumulative_returns), len(errors))\n",
        "cumulative_returns_trimmed = cumulative_returns[:min_length]\n",
        "errors_trimmed = errors[:min_length]\n",
        "\n",
        "# Reshape cumulative_returns_trimmed to be a 2D array\n",
        "cumulative_returns_trimmed = cumulative_returns_trimmed.reshape(-1, 1)\n",
        "\n",
        "# Calculate the ratio of cumulative returns to prediction errors\n",
        "y = cumulative_returns_trimmed / errors_trimmed\n",
        "\n",
        "# Flatten errors_trimmed to make it 1D\n",
        "errors_flat = errors_trimmed.flatten()\n",
        "\n",
        "# Plot cumulative returns and scatter plot of errors\n",
        "plt.figure(figsize=(12, 6))\n",
        "plt.plot(y)\n",
        "plt.xlabel('Time')\n",
        "plt.ylabel('Cumulative Returns / Prediction Errors')\n",
        "plt.title('Cumulative Returns and Ratio Over Time')\n",
        "plt.legend()\n",
        "plt.show()"
      ],
      "metadata": {
        "colab": {
          "base_uri": "https://localhost:8080/",
          "height": 619
        },
        "id": "CAIj6mZC1btE",
        "outputId": "ba7b6a1f-bb14-424e-c492-d0319fad2f7e"
      },
      "execution_count": 99,
      "outputs": [
        {
          "output_type": "stream",
          "name": "stdout",
          "text": [
            "1/1 [==============================] - 0s 68ms/step\n"
          ]
        },
        {
          "output_type": "stream",
          "name": "stderr",
          "text": [
            "WARNING:matplotlib.legend:No artists with labels found to put in legend.  Note that artists whose label start with an underscore are ignored when legend() is called with no argument.\n"
          ]
        },
        {
          "output_type": "display_data",
          "data": {
            "text/plain": [
              "<Figure size 1200x600 with 1 Axes>"
            ],
            "image/png": "[encoded data removed]"
          },
          "metadata": {}
        }
      ]
    },
    {
      "cell_type": "code",
      "source": [
        "X_test = np.array(X_test)\n",
        "X_test = np.reshape(X_test, (X_test.shape[0], X_test.shape[1], 1))\n",
        "\n",
        "predicted_prices = regressor.predict(X_test)\n",
        "\n",
        "predicted_prices = sc.inverse_transform(predicted_prices)\n",
        "\n",
        "actual_prices = testing_set[timesteps:]\n",
        "\n",
        "returns = (actual_prices[1:] - actual_prices[:-1]) / actual_prices[:-1]\n",
        "\n",
        "predicted_returns = (predicted_prices[1:] - predicted_prices[:-1]) / predicted_prices[:-1]\n",
        "buy_signals = predicted_returns > 0\n",
        "\n",
        "transaction_cost = 0.0015\n",
        "slippage = 0.002\n",
        "\n",
        "buy_signals = buy_signals[:len(returns)]\n",
        "\n",
        "buy_signals_expanded = np.expand_dims(buy_signals, axis=-1)\n",
        "\n",
        "adjusted_returns = returns - (buy_signals_expanded * transaction_cost) - (buy_signals_expanded * slippage)\n",
        "\n",
        "cumulative_returns = np.cumprod(1 + adjusted_returns) - 1\n",
        "\n",
        "plt.figure(figsize=(12, 6))\n",
        "plt.plot(cumulative_returns, label='Cumulative Returns')\n",
        "plt.xlabel('Time')\n",
        "plt.ylabel('Cumulative Returns')\n",
        "plt.title('Cumulative Returns Over Time')\n",
        "plt.legend()\n",
        "plt.show()\n"
      ],
      "metadata": {
        "colab": {
          "base_uri": "https://localhost:8080/",
          "height": 581
        },
        "id": "Ern65Al5630Y",
        "outputId": "bcea113f-ff0c-43e4-a1db-b784857fbdad"
      },
      "execution_count": 101,
      "outputs": [
        {
          "output_type": "stream",
          "name": "stdout",
          "text": [
            "1/1 [==============================] - 0s 71ms/step\n"
          ]
        },
        {
          "output_type": "display_data",
          "data": {
            "text/plain": [
              "<Figure size 1200x600 with 1 Axes>"
            ],
            "image/png": "[encoded data removed]"
          },
          "metadata": {}
        }
      ]
    },
    {
      "cell_type": "markdown",
      "source": [
        "## RISK MANAGEMENT"
      ],
      "metadata": {
        "id": "jFiJYWlQ4tuT"
      }
    },
    {
      "cell_type": "code",
      "source": [
        "stop_loss_ratio = 0.02  # 2% stop-loss ratio\n",
        "\n",
        "positions = np.zeros(len(adjusted_returns))\n",
        "capital = 1.0  # Initial capital is set to 1 BTC for simplicity\n",
        "position_size = 0.1  # Example: Allocate 10% of capital to each trade\n",
        "\n",
        "# Loop through each time step\n",
        "for i in range(len(adjusted_returns)):\n",
        "\n",
        "    position_size_btc = capital * position_size\n",
        "\n",
        "    # Check if the model predicts a positive return (buy signal)\n",
        "    if buy_signals[i]:\n",
        "\n",
        "        positions[i] = position_size_btc / actual_prices[i]\n",
        "\n",
        "    # Check if stop-loss condition is met (sell signal)\n",
        "    elif positions[i-1] * (1 - stop_loss_ratio) > actual_prices[i]:\n",
        "        positions[i] = 0\n",
        "\n",
        "portfolio_value = positions * actual_prices\n",
        "\n",
        "plt.plot(portfolio_value)\n",
        "plt.xlabel('Time')\n",
        "plt.ylabel('Portfolio Value (BTC)')\n",
        "plt.legend()\n",
        "plt.show()\n"
      ],
      "metadata": {
        "colab": {
          "base_uri": "https://localhost:8080/",
          "height": 486
        },
        "id": "h9P7GMRQ4sUa",
        "outputId": "8adaefa3-653f-441f-fc72-2bae9d77b76b"
      },
      "execution_count": 100,
      "outputs": [
        {
          "output_type": "stream",
          "name": "stderr",
          "text": [
            "WARNING:matplotlib.legend:No artists with labels found to put in legend.  Note that artists whose label start with an underscore are ignored when legend() is called with no argument.\n"
          ]
        },
        {
          "output_type": "display_data",
          "data": {
            "text/plain": [
              "<Figure size 640x480 with 1 Axes>"
            ],
            "image/png": "[encoded data removed]"
          },
          "metadata": {}
        }
      ]
    },
    {
      "cell_type": "markdown",
      "source": [
        "## VALUES"
      ],
      "metadata": {
        "id": "PSVf_yIt80VW"
      }
    },
    {
      "cell_type": "code",
      "source": [
        "# Calculate metrics\n",
        "gross_profit = np.sum(adjusted_returns[adjusted_returns > 0])\n",
        "gross_loss = -np.sum(adjusted_returns[adjusted_returns < 0])\n",
        "net_profit = gross_profit - gross_loss\n",
        "total_closed_trades = np.sum(buy_signals)\n",
        "win_rate = np.sum(adjusted_returns > 0) / total_closed_trades\n",
        "max_drawdown = np.min(np.cumsum(adjusted_returns))\n",
        "average_winning_trade = gross_profit / np.sum(adjusted_returns > 0)\n",
        "average_losing_trade = gross_loss / np.sum(adjusted_returns < 0)\n",
        "buy_and_hold_return = (actual_prices[-1] - actual_prices[0]) / actual_prices[0]\n",
        "largest_losing_trade = np.min(adjusted_returns)\n",
        "largest_winning_trade = np.max(adjusted_returns)\n",
        "sharpe_ratio = np.sqrt(252) * np.mean(adjusted_returns) / np.std(adjusted_returns)\n",
        "sortino_ratio = np.sqrt(252) * np.mean(adjusted_returns) / np.std(adjusted_returns[adjusted_returns < 0])\n",
        "average_holding_duration = np.mean(np.diff(np.where(buy_signals)[0])) if np.sum(buy_signals) > 0 else 0\n",
        "benchmark_return = (actual_prices[-1] - actual_prices[0]) / actual_prices[0]\n",
        "risk_reward_ratio = np.mean(adjusted_returns) / np.std(adjusted_returns)\n",
        "trade_durations = np.diff(np.where(buy_signals)[0])\n",
        "max_duration_time = np.max(trade_durations) if len(trade_durations) > 0 else 0\n",
        "\n",
        "\n",
        "print(f\"Gross Profit: {gross_profit}\")\n",
        "print(f\"Gross Loss: {gross_loss}\")\n",
        "print(f\"Net Profit: {net_profit}\")\n",
        "print(f\"Total Closed Trades: {total_closed_trades}\")\n",
        "print(f\"Win Rate: {win_rate}\")\n",
        "print(f\"Max Drawdown: {max_drawdown}\")\n",
        "print(f\"Average Winning Trade (in USDT): {average_winning_trade}\")\n",
        "print(f\"Average Losing Trade (in USDT): {average_losing_trade}\")\n",
        "print(f\"Buy and Hold Return of BTC: {buy_and_hold_return}\")\n",
        "print(f\"Largest Losing Trade (in USDT): {largest_losing_trade}\")\n",
        "print(f\"Largest Winning Trade (in USDT): {largest_winning_trade}\")\n",
        "print(f\"Sharpe Ratio: {sharpe_ratio}\")\n",
        "print(f\"Sortino Ratio: {sortino_ratio}\")\n",
        "print(f\"Average Holding Duration per Trade: {average_holding_duration} days\")\n",
        "print(f\"Benchmark Return: {benchmark_return}\")\n",
        "print(f\"Risk-Reward Ratio: {risk_reward_ratio}\")\n",
        "print(f\"Max Duration Time of Single Trade: {max_duration_time} days\")"
      ],
      "metadata": {
        "colab": {
          "base_uri": "https://localhost:8080/"
        },
        "id": "2FXXoiju8zGq",
        "outputId": "30662165-a810-4f21-d221-13a0a457c902"
      },
      "execution_count": 40,
      "outputs": [
        {
          "output_type": "stream",
          "name": "stdout",
          "text": [
            "Gross Profit: 665217.2869856787\n",
            "Gross Loss: 135377.7613746223\n",
            "Net Profit: 529839.5256110565\n",
            "Total Closed Trades: 8\n",
            "Win Rate: 33776.125\n",
            "Max Drawdown: 3.0191753513035224\n",
            "Average Winning Trade (in USDT): 2.4618620659773685\n",
            "Average Losing Trade (in USDT): 0.5003798239682953\n",
            "Buy and Hold Return of BTC: [3.39734455]\n",
            "Largest Losing Trade (in USDT): -0.953402700933832\n",
            "Largest Winning Trade (in USDT): 18.95807726753343\n",
            "Sharpe Ratio: 5.954393888136529\n",
            "Sortino Ratio: 51.99158663836698\n",
            "Average Holding Duration per Trade: 1.7142857142857142 days\n",
            "Benchmark Return: [3.39734455]\n",
            "Risk-Reward Ratio: 0.3750915580031478\n",
            "Max Duration Time of Single Trade: 6 days\n"
          ]
        }
      ]
    },
    {
      "cell_type": "code",
      "source": [],
      "metadata": {
        "id": "2hQnbFiA7Wgc"
      },
      "execution_count": null,
      "outputs": []
    }
  ],
  "metadata": {
    "colab": {
      "provenance": []
    },
    "kernelspec": {
      "display_name": "Python 3",
      "name": "python3"
    },
    "language_info": {
      "name": "python"
    }
  },
  "nbformat": 4,
  "nbformat_minor": 0
}